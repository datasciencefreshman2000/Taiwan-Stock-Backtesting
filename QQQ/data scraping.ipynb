{
 "cells": [
  {
   "cell_type": "code",
   "execution_count": 1,
   "id": "6bcf54fe",
   "metadata": {},
   "outputs": [
    {
     "name": "stdout",
     "output_type": "stream",
     "text": [
      "正在下載 QQQ 的完整歷史資料...\n"
     ]
    },
    {
     "name": "stderr",
     "output_type": "stream",
     "text": [
      "[*********************100%***********************]  1 of 1 completed"
     ]
    },
    {
     "name": "stdout",
     "output_type": "stream",
     "text": [
      "QQQ 的欄位為: [('Adj Close', 'QQQ'), ('Close', 'QQQ'), ('High', 'QQQ'), ('Low', 'QQQ'), ('Open', 'QQQ'), ('Volume', 'QQQ')]\n",
      "完整資料已儲存至 QQQ_historical_data_fully_adjusted.csv\n"
     ]
    },
    {
     "name": "stderr",
     "output_type": "stream",
     "text": [
      "\n"
     ]
    }
   ],
   "source": [
    "import yfinance as yf\n",
    "import pandas as pd\n",
    "\n",
    "# 設定要下載的股票代碼\n",
    "tickers = [\"QQQ\"]\n",
    "\n",
    "# 設定下載的期間\n",
    "start_date = \"1999-03-10\" \n",
    "end_date = pd.Timestamp.today().strftime('%Y-%m-%d') # 下載到今天\n",
    "\n",
    "for ticker in tickers:\n",
    "    print(f\"正在下載 {ticker} 的完整歷史資料...\")\n",
    "    \n",
    "    # --- 修正開始 ---\n",
    "    # 設定 auto_adjust=False 來獲取包含 'Adj Close' 在內的所有欄位\n",
    "    data = yf.download(ticker, start=start_date, end=end_date, auto_adjust=False)\n",
    "    # --- 修正結束 ---\n",
    "    \n",
    "    if not data.empty:\n",
    "        # 確認一下載回來的欄位 (通常是 'Open', 'High', 'Low', 'Close', 'Adj Close', 'Volume')\n",
    "        print(f\"{ticker} 的欄位為: {data.columns.to_list()}\")\n",
    "        \n",
    "        # 為了讓主程式可以讀取，我們儲存所有需要的欄位\n",
    "        # 您的主分析程式目前只會用到 'Adj Close'，但保留其他欄位以供未來使用\n",
    "        # 我們可以做個篩選，只保留標準的 OHLCV + Adj Close 欄位\n",
    "        columns_to_keep = ['Open', 'High', 'Low', 'Close', 'Adj Close', 'Volume']\n",
    "        \n",
    "        # 確保所有需要的欄位都存在\n",
    "        if all(col in data.columns for col in columns_to_keep):\n",
    "            final_data = data[columns_to_keep].copy()\n",
    "            \n",
    "            output_filename = f\"{ticker}_historical_data_fully_adjusted.csv\"\n",
    "            final_data.to_csv(output_filename)\n",
    "            print(f\"完整資料已儲存至 {output_filename}\")\n",
    "        else:\n",
    "            print(f\"下載的資料缺少必要欄位，請檢查。\")\n",
    "\n",
    "    else:\n",
    "        print(f\"下載 {ticker} 資料失敗或該區間無資料。\")"
   ]
  },
  {
   "cell_type": "code",
   "execution_count": null,
   "id": "47d447c1",
   "metadata": {},
   "outputs": [],
   "source": []
  }
 ],
 "metadata": {
  "kernelspec": {
   "display_name": "Python 3",
   "language": "python",
   "name": "python3"
  },
  "language_info": {
   "codemirror_mode": {
    "name": "ipython",
    "version": 3
   },
   "file_extension": ".py",
   "mimetype": "text/x-python",
   "name": "python",
   "nbconvert_exporter": "python",
   "pygments_lexer": "ipython3",
   "version": "3.10.0"
  }
 },
 "nbformat": 4,
 "nbformat_minor": 5
}
